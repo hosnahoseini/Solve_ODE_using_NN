{
  "cells": [
    {
      "cell_type": "markdown",
      "metadata": {
        "id": "H44FbWRlFIm5"
      },
      "source": [
        "# Using Neural Networks to solve Ordinary Diferential Equations\n",
        "\n"
      ]
    },
    {
      "cell_type": "markdown",
      "metadata": {
        "id": "nbE72ZspcTeO"
      },
      "source": [
        "## Intro\n",
        "\n",
        "The idea of solving an ODE using a Neural Network was firstly described by [Lagaris et al.](https://arxiv.org/abs/physics/9705023) \n",
        "The insight behind it is basically training a neural network in order to his solution satisfies the conditions required by a differential equation. In other words, we need to find a function whose derivative satisfies the ODE conditions. In this article, we will be going through the underlying mathematical foundations of this concept and then we will implement it using TensorFlow 2.0. "
      ]
    },
    {
      "cell_type": "markdown",
      "metadata": {
        "id": "dcq6Lqwfcf6R"
      },
      "source": [
        "## Mathematical Foundations\n",
        "\n",
        "Let's say we have an ODE system, given by:\n",
        "\n",
        "$$y' = f(y,x) , x \\in [0,1]$$\n",
        "$$y(0)=y_0$$\n",
        "\n",
        "Hence, we can understand the differential operation as a function on the domain $t$ with a known initial condition $u(0)=u_0$. \n",
        "\n",
        "As we know, Neural Networks are known as universal approximators. We will take advantage of this property of Neural Networks to use them to approximate the solution of the given ODE:\n",
        "\n",
        "$$NN(x) \\approx y(x)$$\n",
        "\n",
        "Also, we may agree that the derivative of $NN(t)$ will give us a similar equation:\n",
        "\n",
        "$$NN'(x) = f(NN(x),x)$$\n",
        "\n",
        "So, if $NN(t)$ is really close to the true solution, then we could say that its derivate is also close to the derivative of the true solution, i.e.:\n",
        "\n",
        "$$NN'(x) \\approx f(y,x) $$. \n",
        "\n",
        "Thus, we can turn this condition into our loss function. We have the given derivative function $f(u,t)$ and we can calculate the Neural Network derivative $NN'(t)$ at each step. This motivates the following loss function (which is the mean squared error of the two values):\n",
        "\n",
        "$$L = \\sum_i \\left(\\frac{dg(x_i)}{dx} - f(y,x_i) \\right)^2$$\n",
        "\n",
        "You may remember the initial condition, we still need to handle that. The most straight-forward way would do this by adding an initial condition term to the cost function. It would look like this:\n",
        "\n",
        "$$L = \\sqrt{(NN(0) - u_0)^2} + \\sqrt{\\sum_i \\left(\\frac{dNN(x_i)}{dx} - f(u,x_i) \\right)^2}$$\n",
        "\n",
        "While that would work, it may not be the best approach. We all know the crucial importance of the loss function on the training of the Neural Network, and we also know that the number of terms on this function will impact directly the stability of our training. More terms on the loss function would (usually) imply unstable training. \n",
        "To avoid it, we can encode the initial condition into the loss in a more efficient way. Let's define a new function and use it instead of directly using the neural network:\n",
        "\n",
        "$$g(x) = y(0) + xNN(x)$$\n",
        "\n",
        "It's easy to see that $g(t)$ will always satisfy the initial condition, since $g(0)$ will lead to $tNN(t) = 0$, leaving just the initial condition on the expression($u_t$). This way, we can train $g(t)$ to satisfy the ODE system instead of the Neural Network. Then, it will automatically be a solution to\n",
        "the derivative function. We can incorporate this new idea into our loss function:\n",
        "\n",
        "$$L = \\sqrt{\\sum_i \\left(\\frac{dg(x)}{dx} - f(u(x_i),x_i) \\right)^2}$$"
      ]
    },
    {
      "cell_type": "markdown",
      "metadata": {
        "id": "40INEDo14LXS"
      },
      "source": [
        "## Implementation\n",
        "\n",
        "We are about to implement the described method in python using the TensorFlow library. In order to have a better understanding of the method, we will use a low-level design, avoiding a number of possible optimizations provided by the library. Our focus, at this moment, is to clearly understand and implement the ODE-solver Neural Network. For this reason, we will also choose a simply ODE:\n",
        "\n",
        "$$y' + y = 0$$\n",
        "$$y(0)=1$$\n"
      ]
    },
    {
      "cell_type": "markdown",
      "metadata": {
        "id": "ZXjijxa49zXI"
      },
      "source": [
        "### Define Variables"
      ]
    },
    {
      "cell_type": "code",
      "execution_count": null,
      "metadata": {
        "id": "N5nYh-mG5o_b"
      },
      "outputs": [],
      "source": [
        "import tensorflow as tf\n",
        "import matplotlib.pyplot as plt\n",
        "import numpy as np\n",
        "\n",
        "np.random.seed(123)\n",
        "tf.random.set_seed(123)"
      ]
    },
    {
      "cell_type": "code",
      "execution_count": null,
      "metadata": {
        "id": "TQC1eiisMR9H"
      },
      "outputs": [],
      "source": [
        "# initial condition\n",
        "f0 = 1\n",
        "# infinitesimal small number\n",
        "inf_s = np.sqrt(np.finfo(np.float32).eps)\n",
        "\n",
        "# Parameters\n",
        "learning_rate = 0.01\n",
        "training_steps = 1000\n",
        "batch_size = 100\n",
        "display_step = training_steps/10\n",
        "\n",
        "# Network Parameters\n",
        "n_input = 1     # input layer number of neurons\n",
        "n_hidden_1 = 32 # 1st layer number of neurons\n",
        "n_output = 1    # output layer number of neurons\n",
        "\n",
        "weights = {\n",
        "    'h1': tf.Variable(tf.random.normal([n_input, n_hidden_1])),\n",
        "    'out': tf.Variable(tf.random.normal([n_hidden_1, n_output]))\n",
        "}\n",
        "biases = {\n",
        "    'b1': tf.Variable(tf.random.normal([n_hidden_1])),\n",
        "    'out': tf.Variable(tf.random.normal([n_output]))\n",
        "}\n",
        "\n",
        "\n",
        "# Stochastic gradient descent optimizer.\n",
        "optimizer = tf.optimizers.SGD(learning_rate)"
      ]
    },
    {
      "cell_type": "markdown",
      "metadata": {
        "id": "Ame5hJrbiusy"
      },
      "source": [
        "$$\\frac{dg(x)}{x} = \\frac{g(x+n)-g(x)}{n},$$\n",
        "$$lim_{n\\to-\\infty}$$"
      ]
    },
    {
      "cell_type": "code",
      "execution_count": null,
      "metadata": {
        "id": "eN03lPNGOHGy"
      },
      "outputs": [],
      "source": [
        "# Create model\n",
        "def multilayer_perceptron(x):\n",
        "    x = np.array([[[x]]],  dtype='float32')\n",
        "    # Hidden fully connected layer with 32 neurons\n",
        "    layer_1 = tf.add(tf.matmul(x, weights['h1']), biases['b1'])\n",
        "    layer_1 = tf.nn.sigmoid(layer_1)\n",
        "    # Output fully connected layer\n",
        "    output = tf.matmul(layer_1, weights['out']) + biases['out']\n",
        "    return output\n",
        "\n",
        "# Universal Approximator\n",
        "def g(x):\n",
        "    return x * multilayer_perceptron(x) + f0\n",
        "\n",
        "# Custom loss function to approximate the derivatives\n",
        "def custom_loss():\n",
        "    summation = []\n",
        "    for x in np.linspace(0,1,10):\n",
        "        dNN = (g(x+inf_s)-g(x))/inf_s \n",
        "        summation.append((dNN + g(x))**2)\n",
        "    return tf.reduce_sum(tf.abs(summation))"
      ]
    },
    {
      "cell_type": "code",
      "execution_count": null,
      "metadata": {
        "id": "PCOL8GKbM3K5"
      },
      "outputs": [],
      "source": [
        "def train_step():\n",
        "    with tf.GradientTape() as tape:\n",
        "        loss = custom_loss()\n",
        "    trainable_variables = list(weights.values()) + list(biases.values())\n",
        "    gradients = tape.gradient(loss, trainable_variables)\n",
        "    optimizer.apply_gradients(zip(gradients, trainable_variables))"
      ]
    },
    {
      "cell_type": "code",
      "execution_count": null,
      "metadata": {
        "colab": {
          "base_uri": "https://localhost:8080/"
        },
        "id": "RCwEn5gSOWEF",
        "outputId": "a1a06638-ba01-4509-caf2-342d43c2a3fe"
      },
      "outputs": [
        {
          "output_type": "stream",
          "name": "stdout",
          "text": [
            "loss: 25371.537109 \n",
            "loss: 0.327665 \n",
            "loss: 0.201100 \n",
            "loss: 0.172804 \n",
            "loss: 0.151345 \n",
            "loss: 0.133266 \n",
            "loss: 0.117811 \n",
            "loss: 0.104268 \n",
            "loss: 0.092317 \n",
            "loss: 0.081869 \n"
          ]
        }
      ],
      "source": [
        "for i in range(training_steps):\n",
        "    train_step()\n",
        "    if i % display_step == 0:\n",
        "        print(\"loss: %f \" % (custom_loss()))"
      ]
    },
    {
      "cell_type": "code",
      "execution_count": null,
      "metadata": {
        "colab": {
          "base_uri": "https://localhost:8080/",
          "height": 592
        },
        "id": "yHwDFJUJVPwq",
        "outputId": "6d84e03d-a5be-445a-9b96-b1fcaa95bc7b"
      },
      "outputs": [
        {
          "output_type": "display_data",
          "data": {
            "text/plain": [
              "<Figure size 720x720 with 1 Axes>"
            ],
            "image/png": "[encoded data removed]"
          },
          "metadata": {
            "needs_background": "light"
          }
        }
      ],
      "source": [
        "from matplotlib.pyplot import figure\n",
        "\n",
        "figure(figsize=(10,10))\n",
        "# True Solution (found analitically)\n",
        "def true_solution(x):\n",
        "    return np.exp(-x)\n",
        "\n",
        "X = np.linspace(0, 1, 100)\n",
        "result = []\n",
        "for i in X:\n",
        "  # result.append(f(i))\n",
        "  result.append(g(i).numpy()[0][0][0])\n",
        "\n",
        "S = true_solution(X)\n",
        "  \n",
        "plt.plot(X, S, label=\"Original Function\")\n",
        "plt.plot(X, result, label=\"Neural Net Approximation\")\n",
        "plt.legend(loc=2, prop={'size': 20})\n",
        "plt.show()"
      ]
    },
    {
      "cell_type": "code",
      "execution_count": null,
      "metadata": {
        "colab": {
          "background_save": true
        },
        "id": "y9UM6LoryVII"
      },
      "outputs": [],
      "source": []
    }
  ],
  "metadata": {
    "colab": {
      "collapsed_sections": [],
      "provenance": []
    },
    "kernelspec": {
      "display_name": "Python 3",
      "name": "python3"
    }
  },
  "nbformat": 4,
  "nbformat_minor": 0
}