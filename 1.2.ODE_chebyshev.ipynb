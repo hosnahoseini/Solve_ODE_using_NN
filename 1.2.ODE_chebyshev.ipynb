{
 "cells": [
  {
   "cell_type": "markdown",
   "id": "77e11767-1a80-4ebc-b328-8a38f7d5f834",
   "metadata": {},
   "source": [
    "# Using Neural Networks to solve Ordinary Diferential Equations"
   ]
  },
  {
   "cell_type": "markdown",
   "id": "cb8c5a3c-dbdb-4062-aef3-f4087a1847ea",
   "metadata": {},
   "source": [
    "solve following ODE using NN:\n",
    "$$y' + y = 0$$\n",
    "$$y(0)=1$$\n"
   ]
  },
  {
   "cell_type": "markdown",
   "id": "15791429-e31f-4e76-9b43-3feded8ef733",
   "metadata": {},
   "source": [
    "## imports"
   ]
  },
  {
   "cell_type": "code",
   "execution_count": 1,
   "id": "51dfb791-ee74-4746-941d-61679d7427b4",
   "metadata": {},
   "outputs": [],
   "source": [
    "import numpy as np\n",
    "import matplotlib.pyplot as plt\n",
    "import tensorflow as tf\n",
    "from tensorflow import keras\n",
    "from tensorflow.keras.models import Model\n",
    "from tensorflow.keras.layers import Dense, Input\n",
    "import logging\n",
    "logging.getLogger(\"tensorflow\").setLevel(logging.ERROR)\n",
    "tf.autograph.set_verbosity(0)\n",
    "from tensorflow.keras import backend as K\n",
    "from tensorflow.keras.layers import concatenate"
   ]
  },
  {
   "cell_type": "markdown",
   "id": "3323a760-19a5-47c4-9e12-09f617d0c585",
   "metadata": {},
   "source": [
    "## define chebyshev function as activation function"
   ]
  },
  {
   "cell_type": "markdown",
   "id": "4f023509-8f2a-495e-b126-c174af26e5ab",
   "metadata": {},
   "source": [
    "according to chebyshev formula in the below we calculate $i$th term as activation fnction for $i$th neuron of hidden layer:"
   ]
  },
  {
   "cell_type": "markdown",
   "id": "92cc69d7-a1a3-4cfb-886c-b9f122f151e8",
   "metadata": {},
   "source": [
    "$${\\displaystyle T_{n}(x)={\\begin{cases}\\cos(n\\arccos x)&{\\text{ if }}~|x|\\leq 1\\\\\\cosh(n\\operatorname {arcosh} x)&{\\text{ if }}~x\\geq 1\\\\(-1)^{n}\\cosh(n\\operatorname {arcosh} (-x))&{\\text{ if }}~x\\leq -1\\end{cases}}}$$"
   ]
  },
  {
   "cell_type": "code",
   "execution_count": 1,
   "id": "f8ca87fd-d327-4d87-a148-7c69d9161b51",
   "metadata": {},
   "outputs": [],
   "source": [
    "# defind activation functions\n",
    "\n",
    "def chebyshev_n(x, n):\n",
    "    # change domain from [0, 1] to [-1, 1]\n",
    "    v = 2 * x - 1\n",
    "    # i_th term of chebyshev polynomial\n",
    "    return K.cast(tf.math.cos(n * tf.math.acos(v)), K.floatx())\n",
    "\n",
    "def chebyshev_0(x):\n",
    "    # change domain from [0, 1] to [-1, 1]\n",
    "    v = 2 * x / 1 - 1\n",
    "    # i_th term of chebyshev polynomial\n",
    "    return K.cast(tf.math.cos(0 * tf.math.acos(v)), K.floatx())\n",
    "\n",
    "def chebyshev_1(x):\n",
    "    v = 2 * x / 1 - 1\n",
    "    return K.cast(tf.math.cos(1 * tf.math.acos(v)), K.floatx())\n",
    "\n",
    "def chebyshev_2(x):\n",
    "    v = 2 * x / 1 - 1\n",
    "    return K.cast(tf.math.cos(2 * tf.math.acos(v)), K.floatx())\n",
    "\n",
    "def chebyshev_3(x):\n",
    "    v = 2 * x / 1 - 1\n",
    "    return K.cast(tf.math.cos(3 * tf.math.acos(v)), K.floatx())\n",
    "\n",
    "def chebyshev_4(x):\n",
    "    v = 2 * x / 1 - 1\n",
    "    return K.cast(tf.math.cos(4 * tf.math.acos(v)), K.floatx())"
   ]
  },
  {
   "cell_type": "markdown",
   "id": "0960296f-bf66-4e9a-8332-27d8521c3488",
   "metadata": {},
   "source": [
    "## define NN structure\n",
    "- input layer: one number --> shape: (1, 1)\n",
    "- hidden layer: one layer with 5 neurons each neuron has different activation function\n",
    "- output layer: one number --> shape: (1, 1)"
   ]
  },
  {
   "cell_type": "code",
   "execution_count": 3,
   "id": "510c2075-709b-49e3-859d-879e2334ac8c",
   "metadata": {},
   "outputs": [],
   "source": [
    "input_layer = Input(shape=(1,))\n",
    "neuron0 = Dense(units=1, activation = chebyshev_0)(input_layer)\n",
    "neuron1 = Dense(units=1, activation = chebyshev_1)(input_layer)\n",
    "neuron2 = Dense(units=1, activation = chebyshev_2)(input_layer)\n",
    "neuron3 = Dense(units=1, activation = chebyshev_3)(input_layer)\n",
    "neuron4 = Dense(units=1, activation = chebyshev_4)(input_layer)\n",
    "# concat 5 neuron to make hidden layer\n",
    "layer1 = concatenate([neuron0, neuron1, neuron2, neuron3, neuron4])\n",
    "output = Dense(units=1, activation='linear')(layer1)"
   ]
  },
  {
   "cell_type": "markdown",
   "id": "a58a8ed8-3bb9-4515-9e13-c262dc5b32c4",
   "metadata": {},
   "source": [
    "## define custome model\n",
    "we need to customize loss function and training step"
   ]
  },
  {
   "cell_type": "markdown",
   "id": "81e4a9f4-bf92-4349-b950-d57c22adf91f",
   "metadata": {},
   "source": [
    "loss function:\n",
    "    we want to solve $ y'+y=0 $ and find y so the NN's output should work in this equation.\n",
    "    which means if the prediction of NN is NN(x) we should have:\n",
    "    $$([NN'(x) + NN(x)] - [y'(x) + y(x)])^2 = loss$$\n",
    "    and the result of above statement is our loss. we also know that $y'(x)-y(x)=0$ so we can compute loss as follow:\n",
    "    $$[NN'(x) + NN(x)]^2 = loss $$"
   ]
  },
  {
   "cell_type": "code",
   "execution_count": 15,
   "id": "69c08bb1-e957-46d9-bfbc-e7107edfb2cc",
   "metadata": {},
   "outputs": [],
   "source": [
    "class CustomModel(keras.Model):\n",
    "\n",
    "    def train_step(self, data):\n",
    "        with tf.GradientTape() as tape:\n",
    "            \n",
    "            # Compute the loss value (came from previous code in file '1.1.ODE_sigmoid.ipyb')\n",
    "            summation = []\n",
    "            inf_s = np.sqrt(np.finfo(np.float32).eps) # use to calculate derivative \n",
    "            # this dor loop make train data itself (?)\n",
    "            for x in np.linspace(0,1,10):\n",
    "                x = np.array([x]).reshape((1, 1))\n",
    "                NN_predict = self(x, training=True)\n",
    "                dNN = (self(x+inf_s, training=True)-NN_predict)/inf_s \n",
    "                loss = ((dNN + NN_predict)**2)\n",
    "                summation.append((dNN + self(x, training=True))**2)\n",
    "            loss = tf.reduce_sum(tf.abs(summation))\n",
    "            \n",
    "        # Compute gradients\n",
    "        trainable_vars = self.trainable_variables\n",
    "        gradients = tape.gradient(loss, trainable_vars)\n",
    "        # Update weights\n",
    "        self.optimizer.apply_gradients(zip(gradients, trainable_vars))\n",
    "        # Return a dict mapping metric names to current value\n",
    "        return {m.name: m.result() for m in self.metrics}"
   ]
  },
  {
   "cell_type": "markdown",
   "id": "7a2514f2-a73d-4011-b34b-bc3cb98beb45",
   "metadata": {},
   "source": [
    "## generate model"
   ]
  },
  {
   "cell_type": "code",
   "execution_count": 16,
   "id": "9d242e5c-2fc0-41c9-b54b-ff64be1c70ea",
   "metadata": {},
   "outputs": [],
   "source": [
    "model=CustomModel(inputs=input_layer,outputs=output)"
   ]
  },
  {
   "cell_type": "code",
   "execution_count": 6,
   "id": "dc6fb748-5fec-4a29-ba4c-e5a009770e80",
   "metadata": {},
   "outputs": [
    {
     "data": {
      "image/png": "[encoded data removed]",
      "text/plain": [
       "<IPython.core.display.Image object>"
      ]
     },
     "execution_count": 6,
     "metadata": {},
     "output_type": "execute_result"
    }
   ],
   "source": [
    "keras.utils.plot_model(model, \"my_first_model.png\")"
   ]
  },
  {
   "cell_type": "code",
   "execution_count": 7,
   "id": "4958477d-3b19-4379-a0c9-d827d77c78b0",
   "metadata": {},
   "outputs": [
    {
     "name": "stdout",
     "output_type": "stream",
     "text": [
      "Model: \"custom_model\"\n",
      "__________________________________________________________________________________________________\n",
      " Layer (type)                   Output Shape         Param #     Connected to                     \n",
      "==================================================================================================\n",
      " input_1 (InputLayer)           [(None, 1)]          0           []                               \n",
      "                                                                                                  \n",
      " dense (Dense)                  (None, 1)            2           ['input_1[0][0]']                \n",
      "                                                                                                  \n",
      " dense_1 (Dense)                (None, 1)            2           ['input_1[0][0]']                \n",
      "                                                                                                  \n",
      " dense_2 (Dense)                (None, 1)            2           ['input_1[0][0]']                \n",
      "                                                                                                  \n",
      " dense_3 (Dense)                (None, 1)            2           ['input_1[0][0]']                \n",
      "                                                                                                  \n",
      " dense_4 (Dense)                (None, 1)            2           ['input_1[0][0]']                \n",
      "                                                                                                  \n",
      " concatenate (Concatenate)      (None, 5)            0           ['dense[0][0]',                  \n",
      "                                                                  'dense_1[0][0]',                \n",
      "                                                                  'dense_2[0][0]',                \n",
      "                                                                  'dense_3[0][0]',                \n",
      "                                                                  'dense_4[0][0]']                \n",
      "                                                                                                  \n",
      " dense_5 (Dense)                (None, 1)            6           ['concatenate[0][0]']            \n",
      "                                                                                                  \n",
      "==================================================================================================\n",
      "Total params: 16\n",
      "Trainable params: 16\n",
      "Non-trainable params: 0\n",
      "__________________________________________________________________________________________________\n"
     ]
    }
   ],
   "source": [
    "model.summary()"
   ]
  },
  {
   "cell_type": "markdown",
   "id": "043877d6-f6d6-42f7-98ed-d42450a73a64",
   "metadata": {},
   "source": [
    "## compile and fit mode"
   ]
  },
  {
   "cell_type": "code",
   "execution_count": 17,
   "id": "916345e6-26c6-4b69-bf4c-f79692b76381",
   "metadata": {},
   "outputs": [],
   "source": [
    "# train data (do we actually ue them (?))\n",
    "# what is our train data\n",
    "x = np.linspace(0,1,10)\n",
    "y = np.zeros((10, 1))"
   ]
  },
  {
   "cell_type": "code",
   "execution_count": 18,
   "id": "89c4f2fe-81a2-408f-a3db-6529c49ad984",
   "metadata": {
    "tags": []
   },
   "outputs": [
    {
     "name": "stdout",
     "output_type": "stream",
     "text": [
      "Epoch 1/10\n",
      "1/1 [==============================] - 23s 23s/step\n",
      "Epoch 2/10\n",
      "1/1 [==============================] - 0s 426ms/step\n",
      "Epoch 3/10\n",
      "1/1 [==============================] - 1s 1s/step\n",
      "Epoch 4/10\n",
      "1/1 [==============================] - 1s 974ms/step\n",
      "Epoch 5/10\n",
      "1/1 [==============================] - 1s 620ms/step\n",
      "Epoch 6/10\n",
      "1/1 [==============================] - 0s 122ms/step\n",
      "Epoch 7/10\n",
      "1/1 [==============================] - 0s 300ms/step\n",
      "Epoch 8/10\n",
      "1/1 [==============================] - 0s 321ms/step\n",
      "Epoch 9/10\n",
      "1/1 [==============================] - 0s 326ms/step\n",
      "Epoch 10/10\n",
      "1/1 [==============================] - 0s 219ms/step\n"
     ]
    }
   ],
   "source": [
    "model.compile(optimizer=tf.keras.optimizers.SGD(learning_rate=1e-2))\n",
    "history = model.fit(x, y, batch_size=100, epochs=10)"
   ]
  },
  {
   "cell_type": "markdown",
   "id": "58c8df1f-a0d1-4583-8885-534e44b172c9",
   "metadata": {},
   "source": [
    "## predict for some sample data"
   ]
  },
  {
   "cell_type": "code",
   "execution_count": 19,
   "id": "1718742b-36ae-48e5-b5ed-fa35558b9f96",
   "metadata": {},
   "outputs": [
    {
     "name": "stdout",
     "output_type": "stream",
     "text": [
      "1/1 [==============================] - 1s 594ms/step\n"
     ]
    },
    {
     "data": {
      "text/plain": [
       "array([[nan],\n",
       "       [nan],\n",
       "       [nan],\n",
       "       [nan],\n",
       "       [nan],\n",
       "       [nan],\n",
       "       [nan],\n",
       "       [nan],\n",
       "       [nan],\n",
       "       [nan]], dtype=float32)"
      ]
     },
     "execution_count": 19,
     "metadata": {},
     "output_type": "execute_result"
    }
   ],
   "source": [
    "model.predict(x)"
   ]
  },
  {
   "cell_type": "markdown",
   "id": "23dfba94-2a7f-4b6d-885a-62462f97732b",
   "metadata": {},
   "source": [
    "## plot the result"
   ]
  },
  {
   "cell_type": "code",
   "execution_count": 20,
   "id": "20918cbf-f649-448a-9da8-52635a661bc2",
   "metadata": {},
   "outputs": [
    {
     "name": "stdout",
     "output_type": "stream",
     "text": [
      "4/4 [==============================] - 0s 5ms/step\n"
     ]
    },
    {
     "data": {
      "image/png": "[encoded data removed]",
      "text/plain": [
       "<Figure size 720x720 with 1 Axes>"
      ]
     },
     "metadata": {
      "needs_background": "light"
     },
     "output_type": "display_data"
    }
   ],
   "source": [
    "from matplotlib.pyplot import figure\n",
    "\n",
    "figure(figsize=(10,10))\n",
    "# True Solution (found analitically)\n",
    "X = np.linspace(0, 1, 100)\n",
    "S = np.exp(-X)\n",
    "\n",
    "result = model.predict(X)\n",
    "\n",
    "plt.plot(X, S, label=\"Original Function\")\n",
    "plt.plot(X, result, label=\"Neural Net Approximation\")\n",
    "plt.legend(loc=2, prop={'size': 20})\n",
    "plt.show()"
   ]
  },
  {
   "cell_type": "code",
   "execution_count": null,
   "id": "60861d3d-ce45-4352-8d01-eb19864884d3",
   "metadata": {},
   "outputs": [],
   "source": []
  }
 ],
 "metadata": {
  "kernelspec": {
   "display_name": "Python 3",
   "language": "python",
   "name": "python3"
  },
  "language_info": {
   "codemirror_mode": {
    "name": "ipython",
    "version": 3
   },
   "file_extension": ".py",
   "mimetype": "text/x-python",
   "name": "python",
   "nbconvert_exporter": "python",
   "pygments_lexer": "ipython3",
   "version": "3.7.10"
  }
 },
 "nbformat": 4,
 "nbformat_minor": 5
}
